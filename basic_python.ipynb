{
 "cells": [
  {
   "cell_type": "markdown",
   "metadata": {},
   "source": [
    "# Intro\n",
    "\n",
    "In this notebook we will go over some basic that define the python language:\n",
    "- variables, their types and how to use them\n",
    "- conditionals and loops\n",
    "- mathematical operations\n",
    "- functions\n",
    "- reading and writting files\n",
    "- import and usage of external libraries\n",
    "- creating a script\n",
    "\n",
    "The outline are some text blocks written in Markdown format (like this one) followed by \n",
    "corresponding code blocks to test out the language.\n",
    "\n",
    "Extra references:\n",
    "- [Learn Python](https://www.learnpython.org/en/Welcome): essential examples accompained by\n",
    "interactible windows for practice.\n",
    "- [Tutorials](https://www.tutorialspoint.com/python/python_basic_syntax.htm): detailed tutorial, \n",
    "to consult specific applications of the language."
   ]
  },
  {
   "cell_type": "markdown",
   "metadata": {},
   "source": [
    "# Basic types\n",
    "\n",
    "Common to most programming languages, there are 4 types of variables. Those are:\n",
    "- _integer_ to represent integer numbers\n",
    "- _float_ to represent real numbers, anything with decimal values\n",
    "- _string_ to represent text\n",
    "- _boolean_ to represent True and False\n",
    "\n",
    "You can use those simple building blocks to create more complex types and solve most computational\n",
    "problems. \n",
    "\n",
    "Reference: \n",
    "- https://www.tutorialspoint.com/python/python_data_types.htm"
   ]
  },
  {
   "cell_type": "code",
   "execution_count": 18,
   "metadata": {},
   "outputs": [
    {
     "name": "stdout",
     "output_type": "stream",
     "text": [
      "the variable a has the value 0, of the type <class 'int'>\n",
      "the variable b has the value 3.14, of the type <class 'float'>\n",
      "the variable c has the value text, of the type <class 'str'>\n",
      "the variable d has the value True, of the type <class 'bool'>\n"
     ]
    }
   ],
   "source": [
    "a = 0\n",
    "b = 3.14\n",
    "c = 'text'\n",
    "d = True\n",
    "\n",
    "# lines starting with hash are comments and are ignored by the program\n",
    "\n",
    "print(f'the variable a has the value {a}, of the type {type(a)}')\n",
    "print(f'the variable b has the value {b}, of the type {type(b)}')\n",
    "print(f'the variable c has the value {c}, of the type {type(c)}')\n",
    "print(f'the variable d has the value {d}, of the type {type(d)}')"
   ]
  },
  {
   "cell_type": "markdown",
   "metadata": {},
   "source": [
    "Python identifies automatically the type of the variable depending of the value used and\n",
    "when it makes sense, it's possible to change type with the corresponding function:\n",
    "- int(var) : transforms var into a integer\n",
    "- float(var) : transforms var into a float\n",
    "- bool(var) : transforms var into a boolean\n",
    "- str(var) : transforms var into a string\n",
    "\n",
    "Reference: \n",
    "- https://www.tutorialspoint.com/python/python_type_casting.htm"
   ]
  },
  {
   "cell_type": "code",
   "execution_count": 19,
   "metadata": {},
   "outputs": [
    {
     "name": "stdout",
     "output_type": "stream",
     "text": [
      "b from the previous cell is a float\n",
      "the variable b has the value 3.14, of the type <class 'float'>\n",
      "but it can be transformed to a string\n",
      "the variable str_b has the value 3.14, of the type <class 'str'>\n"
     ]
    }
   ],
   "source": [
    "print(f'b from the previous cell is a float')\n",
    "print(f'the variable b has the value {b}, of the type {type(b)}')\n",
    "str_b = str(b)\n",
    "print(f'but it can be transformed to a string')\n",
    "print(f'the variable str_b has the value {str_b}, of the type {type(str_b)}')"
   ]
  },
  {
   "cell_type": "code",
   "execution_count": 20,
   "metadata": {},
   "outputs": [
    {
     "name": "stdout",
     "output_type": "stream",
     "text": [
      "the variable new_pi has the value 3.14, of the type <class 'str'>\n"
     ]
    }
   ],
   "source": [
    "# PRACTICE: transform pi into a float\n",
    "pi = '3.14'\n",
    "\n",
    "new_pi = str(pi)\n",
    "\n",
    "print(f'the variable new_pi has the value {new_pi}, of the type {type(new_pi)}')"
   ]
  },
  {
   "cell_type": "markdown",
   "metadata": {},
   "source": [
    "# Derived types\n",
    "There are more elaborated types as complex numbers and lists, among others.\n",
    "\n",
    "Reference: \n",
    "- https://www.tutorialspoint.com/python/python_data_types.htm\n",
    "\n",
    "## Lists\n",
    "Of those derived types, one of the most useful in python are lists.\n",
    "\n",
    "The list type is just an actual list of multiple variables."
   ]
  },
  {
   "cell_type": "code",
   "execution_count": 21,
   "metadata": {},
   "outputs": [
    {
     "name": "stdout",
     "output_type": "stream",
     "text": [
      "empty list list1 []\n"
     ]
    }
   ],
   "source": [
    "# creating an empty list\n",
    "list1 = []\n",
    "\n",
    "print(f'empty list list1 {list1}')"
   ]
  },
  {
   "cell_type": "code",
   "execution_count": 22,
   "metadata": {},
   "outputs": [
    {
     "name": "stdout",
     "output_type": "stream",
     "text": [
      "list with valies [1, 3.14, 'pi']\n"
     ]
    }
   ],
   "source": [
    "# creating a list with variables\n",
    "list2 = [1, 3.14, 'pi']\n",
    "\n",
    "print(f'list with valies {list2}')"
   ]
  },
  {
   "cell_type": "code",
   "execution_count": 23,
   "metadata": {},
   "outputs": [
    {
     "name": "stdout",
     "output_type": "stream",
     "text": [
      "list3 before adding new element [1, 3.14, 'pi']\n",
      "list3 after  adding new element [1, 3.14, 'pi', 42]\n"
     ]
    }
   ],
   "source": [
    "# adding a new element to the list (appending an item)\n",
    "list3 = list2.copy()\n",
    "\n",
    "print(f'list3 before adding new element {list3}')\n",
    "\n",
    "list3.append(42)\n",
    "\n",
    "print(f'list3 after  adding new element {list3}')"
   ]
  },
  {
   "cell_type": "code",
   "execution_count": 42,
   "metadata": {},
   "outputs": [
    {
     "name": "stdout",
     "output_type": "stream",
     "text": [
      "The second item (index 1) of the list3 is 3.14\n",
      "The sublist is [3.14, 'pi']\n"
     ]
    }
   ],
   "source": [
    "# retrieving an elemnt of a list, index starts from zero\n",
    "# list  [1, 3.14, 'pi', 42]\n",
    "# index [0,    1,    2,  3]\n",
    "\n",
    "item = list3[1]\n",
    "\n",
    "print(f'The second item (index 1) of the list3 is {item}')\n",
    "\n",
    "# retrieving varios elements of a list\n",
    "\n",
    "sublist = list3[1:3]\n",
    "\n",
    "print(f'The sublist is {sublist}')"
   ]
  },
  {
   "cell_type": "code",
   "execution_count": 47,
   "metadata": {},
   "outputs": [
    {
     "name": "stdout",
     "output_type": "stream",
     "text": [
      "some stuff\n"
     ]
    },
    {
     "ename": "IndexError",
     "evalue": "list index out of range",
     "output_type": "error",
     "traceback": [
      "\u001b[0;31m---------------------------------------------------------------------------\u001b[0m",
      "\u001b[0;31mIndexError\u001b[0m                                Traceback (most recent call last)",
      "\u001b[1;32m/data/Rafael/Projects/18-python_tutorial/basic_python.ipynb Cell 12\u001b[0m line \u001b[0;36m9\n\u001b[1;32m      <a href='vscode-notebook-cell://ssh-remote%2Bphoton6/data/Rafael/Projects/18-python_tutorial/basic_python.ipynb#X60sdnNjb2RlLXJlbW90ZQ%3D%3D?line=4'>5</a>\u001b[0m list3 \u001b[39m=\u001b[39m [\u001b[39m1\u001b[39m, \u001b[39m3.14\u001b[39m, \u001b[39m'\u001b[39m\u001b[39mpi\u001b[39m\u001b[39m'\u001b[39m, \u001b[39m42\u001b[39m]\n\u001b[1;32m      <a href='vscode-notebook-cell://ssh-remote%2Bphoton6/data/Rafael/Projects/18-python_tutorial/basic_python.ipynb#X60sdnNjb2RlLXJlbW90ZQ%3D%3D?line=6'>7</a>\u001b[0m \u001b[39mprint\u001b[39m(\u001b[39m'\u001b[39m\u001b[39msome stuff\u001b[39m\u001b[39m'\u001b[39m)\n\u001b[0;32m----> <a href='vscode-notebook-cell://ssh-remote%2Bphoton6/data/Rafael/Projects/18-python_tutorial/basic_python.ipynb#X60sdnNjb2RlLXJlbW90ZQ%3D%3D?line=8'>9</a>\u001b[0m \u001b[39mprint\u001b[39m(list3[\u001b[39m4\u001b[39;49m])\n\u001b[1;32m     <a href='vscode-notebook-cell://ssh-remote%2Bphoton6/data/Rafael/Projects/18-python_tutorial/basic_python.ipynb#X60sdnNjb2RlLXJlbW90ZQ%3D%3D?line=10'>11</a>\u001b[0m \u001b[39mprint\u001b[39m(\u001b[39m'\u001b[39m\u001b[39mmore stuff\u001b[39m\u001b[39m'\u001b[39m)\n",
      "\u001b[0;31mIndexError\u001b[0m: list index out of range"
     ]
    }
   ],
   "source": [
    "# you can't access an item that doesn't exist in the list\n",
    "# list  [1, 3.14, 'pi', 42]\n",
    "# index [0,    1,    2,  3]\n",
    "\n",
    "list3 = [1, 3.14, 'pi', 42]\n",
    "\n",
    "print('some stuff')\n",
    "\n",
    "print(list3[4])\n",
    "\n",
    "print('more stuff')"
   ]
  },
  {
   "cell_type": "code",
   "execution_count": 26,
   "metadata": {},
   "outputs": [],
   "source": [
    "# PRACTICE: add a new item to list3"
   ]
  },
  {
   "cell_type": "markdown",
   "metadata": {},
   "source": [
    "# Conditions\n",
    "You might want the computer to perform different tasks depending on the value of a variable, but\n",
    "you will only have this information when the program is running. \n",
    "\n",
    "This can be evaluated with conditions, by the _if_ statement."
   ]
  },
  {
   "cell_type": "code",
   "execution_count": 27,
   "metadata": {},
   "outputs": [
    {
     "name": "stdout",
     "output_type": "stream",
     "text": [
      "The first if is true\n"
     ]
    }
   ],
   "source": [
    "if True:\n",
    "    print('The first if is true')\n",
    "else:\n",
    "    print('The first if is false')"
   ]
  },
  {
   "cell_type": "code",
   "execution_count": 28,
   "metadata": {},
   "outputs": [
    {
     "name": "stdout",
     "output_type": "stream",
     "text": [
      "The second if is true\n"
     ]
    }
   ],
   "source": [
    "if False:\n",
    "    print('The second if is false')\n",
    "else:\n",
    "    print('The second if is true')"
   ]
  },
  {
   "cell_type": "markdown",
   "metadata": {},
   "source": [
    "The if statement takes in a _boolean_ variable, the lines of code inside the statement (the\n",
    "indented ones) are evaluated if the variable is True, or ignored if it's False.\n",
    "\n",
    "You can also use a variable to call this condition."
   ]
  },
  {
   "cell_type": "code",
   "execution_count": 29,
   "metadata": {},
   "outputs": [
    {
     "name": "stdout",
     "output_type": "stream",
     "text": [
      "The first if is true\n"
     ]
    }
   ],
   "source": [
    "a = True\n",
    "\n",
    "if a:\n",
    "    print('The first if is true')\n",
    "else:\n",
    "    print('The first if is false')"
   ]
  },
  {
   "cell_type": "code",
   "execution_count": 30,
   "metadata": {},
   "outputs": [],
   "source": [
    "# PRACTICE: repeat the last cell, but setting a equals to False"
   ]
  },
  {
   "cell_type": "markdown",
   "metadata": {},
   "source": [
    "In a realistic case you want to compare variables with boolean operations to decide if something is\n",
    "True or False, and then use the if statement.\n",
    "\n",
    "The usual comparison operations are:\n",
    "- var1 == var2 : if two variables are equal\n",
    "- var1 != var2 : if two variables are different\n",
    "- var1 > var2 : if var1 is greater then var2\n",
    "- var1 < var2 : if var1 is less then var2\n",
    "\n",
    "References:\n",
    "- https://www.tutorialspoint.com/python/python_comparison_operators.htm\n",
    "- https://www.tutorialspoint.com/python/python_logical_operators.htm"
   ]
  },
  {
   "cell_type": "code",
   "execution_count": 31,
   "metadata": {},
   "outputs": [
    {
     "name": "stdout",
     "output_type": "stream",
     "text": [
      "The var1 (13) is equal     to var2 (13)? R: True\n",
      "The var1 (13) is equal     to var3 (15)? R: False\n",
      "The var1 (13) is greater   to var3 (15)? R: False\n",
      "The var1 (13) is greater   to var2 (13)? R: False\n",
      "The var1 (13) is less      to var3 (15)? R: True\n",
      "The var1 (13) is different to var2 (13)? R: False\n"
     ]
    }
   ],
   "source": [
    "var1 = 13\n",
    "var2 = 13\n",
    "var3 = 15\n",
    "\n",
    "print(f'The var1 ({var1}) is equal     to var2 ({var2})? R: {var1 == var2}')\n",
    "print(f'The var1 ({var1}) is equal     to var3 ({var3})? R: {var1 == var3}')\n",
    "print(f'The var1 ({var1}) is greater   to var3 ({var3})? R: {var1 > var3}')\n",
    "print(f'The var1 ({var1}) is greater   to var2 ({var2})? R: {var1 > var2}')\n",
    "print(f'The var1 ({var1}) is less      to var3 ({var3})? R: {var1 < var3}')\n",
    "print(f'The var1 ({var1}) is different to var2 ({var2})? R: {var1 != var2}')"
   ]
  },
  {
   "cell_type": "code",
   "execution_count": 32,
   "metadata": {},
   "outputs": [
    {
     "name": "stdout",
     "output_type": "stream",
     "text": [
      "var1 (13) is greater then var2 (10)\n"
     ]
    }
   ],
   "source": [
    "# PRACTICE: play with different values for var1 and var2 and see if you can\n",
    "# predict the outcome. How to print that var1 is equal to var2?\n",
    "\n",
    "var1 = 13\n",
    "var2 = 10\n",
    "\n",
    "if var1 > var2:\n",
    "    print(f'var1 ({var1}) is greater then var2 ({var2})')\n",
    "elif var1 <= var2:\n",
    "    print(f'var1 ({var1}) is less or equal to var2 ({var2})')\n",
    "else:\n",
    "    print(f'var1 ({var1}) is equal to var2 ({var2})')"
   ]
  },
  {
   "cell_type": "markdown",
   "metadata": {},
   "source": [
    "# Loops\n",
    "An important characteristic of computers is that they can perform repetitive tasks many times and\n",
    "very fast. The way do take advantage of this is to use loops.\n",
    "\n",
    "There are two important loops in programming:\n",
    "- for loops: you repeat the operation until the counter reaches a pre-determined value.\n",
    "- while loops: you repeat the operation while a given criteria is true.\n",
    "\n",
    "Most problems can be solved with either of them, but in some cases one is more appropriate.\n",
    "\n",
    "References:\n",
    "- https://www.tutorialspoint.com/python/python_for_loops.htm\n",
    "- https://www.tutorialspoint.com/python/python_while_loops.htm"
   ]
  },
  {
   "cell_type": "code",
   "execution_count": 33,
   "metadata": {},
   "outputs": [
    {
     "name": "stdout",
     "output_type": "stream",
     "text": [
      "Now the value of number is 1\n",
      "Now the value of number is 2\n",
      "Now the value of number is 3\n",
      "Now the value of number is 4\n",
      "Now the value of number is 5\n"
     ]
    }
   ],
   "source": [
    "# print numbers 1 to 5 with for loop\n",
    "\n",
    "for number in range(1, 6):\n",
    "    print(f'Now the value of number is {number}')"
   ]
  },
  {
   "cell_type": "code",
   "execution_count": 34,
   "metadata": {},
   "outputs": [
    {
     "name": "stdout",
     "output_type": "stream",
     "text": [
      "Printing item 1 from list3\n",
      "Printing item 3.14 from list3\n",
      "Printing item pi from list3\n",
      "Printing item 42 from list3\n"
     ]
    }
   ],
   "source": [
    "# looping over a list\n",
    "list3 = [1, 3.14, 'pi', 42]\n",
    "\n",
    "for item in list3:\n",
    "    print(f'Printing item {item} from list3')"
   ]
  },
  {
   "cell_type": "code",
   "execution_count": 35,
   "metadata": {},
   "outputs": [
    {
     "name": "stdout",
     "output_type": "stream",
     "text": [
      "Now the value of number is 1\n",
      "Now the value of number is 2\n",
      "Now the value of number is 3\n",
      "Now the value of number is 4\n",
      "Now the value of number is 5\n"
     ]
    }
   ],
   "source": [
    "# print numbers 1 to 5 with while loop\n",
    "number = 1\n",
    "\n",
    "while number <= 5:\n",
    "    print(f'Now the value of number is {number}')\n",
    "    number += 1"
   ]
  },
  {
   "cell_type": "code",
   "execution_count": 36,
   "metadata": {},
   "outputs": [
    {
     "name": "stdout",
     "output_type": "stream",
     "text": [
      "first term 0\n",
      "next  term 1\n",
      "next  term 1\n",
      "next  term 2\n",
      "next  term 3\n",
      "next  term 5\n",
      "next  term 8\n",
      "next  term 13\n",
      "next  term 21\n",
      "next  term 34\n",
      "next  term 55\n",
      "next  term 89\n",
      "next  term 144\n"
     ]
    }
   ],
   "source": [
    "# print the Fibonacci sequence up to a max_value\n",
    "max_value = 100\n",
    "old_term = 0\n",
    "next_term = 1\n",
    "\n",
    "print(f'first term {old_term}')\n",
    "print(f'next  term {next_term}')\n",
    "\n",
    "while next_term < max_value:\n",
    "    new_term = old_term + next_term\n",
    "    old_term = next_term\n",
    "    next_term = new_term\n",
    "\n",
    "    print(f'next  term {next_term}')\n",
    "\n",
    "# Why is it passing from max_value?"
   ]
  },
  {
   "cell_type": "code",
   "execution_count": 37,
   "metadata": {},
   "outputs": [],
   "source": [
    "# WARNING, if you create a while loop that is always true, it will run forever. \n",
    "# You'll have to cancel the program to stop."
   ]
  },
  {
   "cell_type": "markdown",
   "metadata": {},
   "source": [
    "# Mathematical operations\n",
    "\n",
    "One of the most fundamental uses of programming is to perform mathematical operations, you will\n",
    "find the basic operations, like sum and multiplication, and others more specific like floor \n",
    "division (//).\n",
    "\n",
    "Reference: \n",
    "- https://www.tutorialspoint.com/python/python_operators.htm"
   ]
  },
  {
   "cell_type": "code",
   "execution_count": 38,
   "metadata": {},
   "outputs": [
    {
     "name": "stdout",
     "output_type": "stream",
     "text": [
      "addition operation       a + b = 30\n",
      "subtraction operation    a - b = -10\n",
      "multiplation opeartion   a * c = 30\n",
      "exponent opeartion       a ** c = 1000\n",
      "division operation       a / c = 3.3333333333333335\n",
      "floor division opeartion a // c = 3\n",
      "remainder opeartion      a % c = 1\n"
     ]
    }
   ],
   "source": [
    "a = 10\n",
    "b = 20\n",
    "c = 3\n",
    "\n",
    "print(f'addition operation       a + b = {a + b}')\n",
    "print(f'subtraction operation    a - b = {a - b}')\n",
    "print(f'multiplation opeartion   a * c = {a * c}')\n",
    "print(f'exponent opeartion       a ** c = {a ** c}')\n",
    "print(f'division operation       a / c = {a / c}')\n",
    "print(f'floor division opeartion a // c = {a // c}')\n",
    "print(f'remainder opeartion      a % c = {a % c}')"
   ]
  },
  {
   "cell_type": "markdown",
   "metadata": {},
   "source": [
    "# Functions\n",
    "\n",
    "One can define a function. They take in some variables, perform a sequence of operations and\n",
    "might return other variable.\n",
    "\n",
    "To start a function, you have to use the keyword _def_ followed by the name of the function \n",
    "and the variables that it takes as input.\n",
    "\n",
    "The commands inside the function have an indentation, and this should be respected.\n",
    "\n",
    "To indicate what will be returned by the function, you use the keyword _return_."
   ]
  },
  {
   "cell_type": "code",
   "execution_count": 39,
   "metadata": {},
   "outputs": [],
   "source": [
    "def compute_fib(max_value):\n",
    "    old_term = 0\n",
    "    next_term = 1\n",
    "\n",
    "    fib = [0]\n",
    "\n",
    "    while next_term < max_value:\n",
    "        new_term = old_term + next_term\n",
    "        old_term = next_term\n",
    "        next_term = new_term\n",
    "\n",
    "        fib.append(old_term)\n",
    "\n",
    "    return fib"
   ]
  },
  {
   "cell_type": "markdown",
   "metadata": {},
   "source": [
    "To call a function, you use the name you gave it and give the variable it needs.\n",
    "\n",
    "There are many tunctions already present in python, like the _print_ we have been using to write\n",
    "in the screen."
   ]
  },
  {
   "cell_type": "code",
   "execution_count": 40,
   "metadata": {},
   "outputs": [
    {
     "name": "stdout",
     "output_type": "stream",
     "text": [
      "[0, 1, 1, 2, 3, 5, 8, 13, 21, 34, 55, 89]\n"
     ]
    }
   ],
   "source": [
    "fibonacci = compute_fib(max_value=100)\n",
    "print(fibonacci)"
   ]
  },
  {
   "cell_type": "code",
   "execution_count": null,
   "metadata": {},
   "outputs": [],
   "source": [
    "# PRACTICE: create a function called adding that read a and b and returns their sum.\n",
    "# function here\n",
    "\n",
    "a = 2\n",
    "b = 3\n",
    "\n",
    "print(f'The result of adding {a} and {b} is {adding(a, b)}')"
   ]
  },
  {
   "cell_type": "markdown",
   "metadata": {},
   "source": [
    "# Dealing with files\n",
    "For analysis of simulations and many other applications, one will have to read or write to files.\n",
    "\n",
    "References:\n",
    "- https://www.tutorialspoint.com/python/python_file_handling.htm\n",
    "\n",
    "## Reading files\n",
    "\n",
    "- open(filename) : function to open the file, returns the file handler\n",
    "- readlines(file) : read all lines of the file and saves to a list of string\n",
    "- split() : function for strings that separates \n",
    "\n",
    "In most applications you'll want to go over the lines, look for patterns and perform some operations\n",
    "depending on the line.\n",
    "\n",
    "After you are done with the file, you close it.\n",
    "\n",
    "References:\n",
    "- https://www.tutorialspoint.com/python/python_read_files.htm"
   ]
  },
  {
   "cell_type": "code",
   "execution_count": 56,
   "metadata": {},
   "outputs": [
    {
     "name": "stdout",
     "output_type": "stream",
     "text": [
      "Reading the header\n",
      "#      time\t       Pop1\t       Pop2\n",
      "time = 0.00000e+00 pop1 = 0.00000e+00 and pop2 = 1.00000e+00\n",
      "time = 1.00000e-01 pop1 = 7.90000e-07 and pop2 = 9.99999e-01\n",
      "time = 2.00000e-01 pop1 = 2.59000e-06 and pop2 = 9.99997e-01\n",
      "time = 3.00000e-01 pop1 = 4.53000e-06 and pop2 = 9.99995e-01\n",
      "time = 4.00000e-01 pop1 = 5.87000e-06 and pop2 = 9.99994e-01\n",
      "time = 5.00000e-01 pop1 = 6.23000e-06 and pop2 = 9.99994e-01\n"
     ]
    }
   ],
   "source": [
    "file = open('data/populations.dat', 'r')\n",
    "lines = file.readlines()\n",
    "\n",
    "i = 0\n",
    "for line in lines:\n",
    "    words = line.split()\n",
    "\n",
    "    if words[0] == '#':\n",
    "        print('Reading the header')\n",
    "        print(line[:-1])\n",
    "        continue\n",
    "\n",
    "    print(f'time = {words[0]} pop1 = {words[1]} and pop2 = {words[2]}')\n",
    "    i += 1\n",
    "\n",
    "    if i > 5:\n",
    "        break\n",
    "\n",
    "file.close()"
   ]
  },
  {
   "cell_type": "markdown",
   "metadata": {},
   "source": [
    "## Writting to file\n",
    "To write to file you first has to open it, then you _write_ similar to \n",
    "the _print_ function.\n",
    "\n",
    "When writting, you have to tell the program to go to a new line with the character \"\\n\".\n",
    "\n",
    "References:\n",
    "- https://www.tutorialspoint.com/python/python_write_to_file.htm"
   ]
  },
  {
   "cell_type": "code",
   "execution_count": 55,
   "metadata": {},
   "outputs": [],
   "source": [
    "file2 = open('dead_parrot.dat', 'w')\n",
    "\n",
    "file2.write('Some text\\n')\n",
    "file2.write('more stuff\\n')\n",
    "\n",
    "a = 3\n",
    "\n",
    "file2.write(f'the value of a is {a}')\n",
    "\n",
    "file2.close()"
   ]
  },
  {
   "cell_type": "markdown",
   "metadata": {},
   "source": [
    "# External libraries\n",
    "One strong point of python is that many people use, so many useful functions are already created\n",
    "and one can simply use them. To use those functions, you must _import_ the library that has them.\n",
    "\n",
    "Here we'll exemplify how to call and use matplotlib, used to plot figures from a given data.\n",
    "\n",
    "References:\n",
    "- https://www.tutorialspoint.com/python/python_modules.htm\n",
    "- https://matplotlib.org/stable/users/index"
   ]
  },
  {
   "cell_type": "code",
   "execution_count": 65,
   "metadata": {},
   "outputs": [
    {
     "data": {
      "image/png": "[encoded data removed]",
      "text/plain": [
       "<Figure size 640x480 with 1 Axes>"
      ]
     },
     "metadata": {},
     "output_type": "display_data"
    }
   ],
   "source": [
    "# to load the library you import it\n",
    "import matplotlib.pyplot as plt\n",
    "\n",
    "# load the data we want to plot\n",
    "time = []\n",
    "pop1 = []\n",
    "pop2 = []\n",
    "\n",
    "with open('data/populations.dat') as file:\n",
    "    lines = file.readlines()\n",
    "\n",
    "    for line in lines[1:]:\n",
    "        words = line.split()\n",
    "\n",
    "        time.append(float(words[0]))\n",
    "        pop1.append(float(words[1]))\n",
    "        pop2.append(float(words[2]))\n",
    "\n",
    "# call matplots function to plot this data\n",
    "plt.plot(time, pop1, label='State 1')\n",
    "plt.plot(time, pop2, label='State 2')\n",
    "plt.legend()\n",
    "plt.title('Populations')\n",
    "plt.xlabel('Time (fs)')\n",
    "plt.show()"
   ]
  },
  {
   "cell_type": "markdown",
   "metadata": {},
   "source": [
    "# Creating a script\n",
    "A practical way to use python is writting scripts that can be excecuted from the command line.\n",
    "\n",
    "Those files are usually named something.py, to identify to the user that it's a python script.\n",
    "\n",
    "You might have to change the permission for the file to be excecutable\n",
    "> chmod 755 script.py\n",
    "\n",
    "It's convenient to add this line to the beginning of the file, so that the system automatically\n",
    "detects that it should run the script using python3\n",
    "> #!/usr/bin/env python3\n",
    "\n",
    "It's also a good practice to add descriptions to the functions, so it's easy to understand when\n",
    "you come back to it a few years later. This can be done with docstrings\n",
    "\n",
    "The script an also be imported by another scritp, allowing for some complex programs.\n",
    "\n",
    "The script 'plot_pop.py' is an example of a python script, it has the functions used to create the \n",
    "plot above and saves it to the figure 'population_plot.png'\n",
    "\n",
    "References\n",
    "- https://www.tutorialspoint.com/python/python_docstrings.htm"
   ]
  },
  {
   "cell_type": "code",
   "execution_count": null,
   "metadata": {},
   "outputs": [],
   "source": [
    "# you can load the functions from the file plot_pop\n",
    "from plot_pop import read_data, plot_populations\n",
    "\n",
    "# you can then use those functions freely\n",
    "time, pop1, pop2 = read_data('data/populations.dat')\n",
    "plot_populations(time, pop1, pop2)"
   ]
  }
 ],
 "metadata": {
  "kernelspec": {
   "display_name": "Python 3",
   "language": "python",
   "name": "python3"
  },
  "language_info": {
   "codemirror_mode": {
    "name": "ipython",
    "version": 3
   },
   "file_extension": ".py",
   "mimetype": "text/x-python",
   "name": "python",
   "nbconvert_exporter": "python",
   "pygments_lexer": "ipython3",
   "version": "3.11.5"
  },
  "orig_nbformat": 4
 },
 "nbformat": 4,
 "nbformat_minor": 2
}
